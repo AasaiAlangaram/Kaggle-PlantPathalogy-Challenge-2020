{
  "nbformat": 4,
  "nbformat_minor": 0,
  "metadata": {
    "colab": {
      "name": "Untitled5.ipynb",
      "provenance": [],
      "mount_file_id": "17SiQNjsV2UmbecAM5-X0ydvTS3W3JiCz",
      "authorship_tag": "ABX9TyPIm+7+alPgspOHzssiTh9M",
      "include_colab_link": true
    },
    "kernelspec": {
      "name": "python3",
      "display_name": "Python 3"
    },
    "accelerator": "GPU"
  },
  "cells": [
    {
      "cell_type": "markdown",
      "metadata": {
        "id": "view-in-github",
        "colab_type": "text"
      },
      "source": [
        "<a href=\"https://colab.research.google.com/github/AasaiAlangaram/Kaggle-PlantPathalogy-Challenge-2020/blob/master/Model_ResNet_v1.01.ipynb\" target=\"_parent\"><img src=\"https://colab.research.google.com/assets/colab-badge.svg\" alt=\"Open In Colab\"/></a>"
      ]
    },
    {
      "cell_type": "code",
      "metadata": {
        "id": "E2rLC6nmD0QE",
        "colab_type": "code",
        "colab": {}
      },
      "source": [
        ""
      ],
      "execution_count": 0,
      "outputs": []
    },
    {
      "cell_type": "code",
      "metadata": {
        "id": "RlFXSLi2Q-Ga",
        "colab_type": "code",
        "outputId": "a9290a7f-b101-4ef0-e7e8-3309c26df8c5",
        "colab": {
          "base_uri": "https://localhost:8080/",
          "height": 34
        }
      },
      "source": [
        "from google.colab import drive\n",
        "drive.mount('/content/drive')"
      ],
      "execution_count": 0,
      "outputs": [
        {
          "output_type": "stream",
          "text": [
            "Drive already mounted at /content/drive; to attempt to forcibly remount, call drive.mount(\"/content/drive\", force_remount=True).\n"
          ],
          "name": "stdout"
        }
      ]
    },
    {
      "cell_type": "markdown",
      "metadata": {
        "id": "DwoiAz6b4lIr",
        "colab_type": "text"
      },
      "source": [
        "Keras is a Deep Learning library for Python, that is simple, modular, and extensible."
      ]
    },
    {
      "cell_type": "code",
      "metadata": {
        "id": "ExY3XFkN2fAD",
        "colab_type": "code",
        "colab": {}
      },
      "source": [
        "import tensorflow as tf\n",
        "import numpy as np\n",
        "import tensorflow_hub as hub\n",
        "import pathlib\n",
        "import datetime\n",
        "import pandas as pd"
      ],
      "execution_count": 0,
      "outputs": []
    },
    {
      "cell_type": "code",
      "metadata": {
        "id": "yBJSXsri2fF0",
        "colab_type": "code",
        "colab": {
          "base_uri": "https://localhost:8080/",
          "height": 51
        },
        "outputId": "b3384add-1d80-47b6-c932-400d9c349986"
      },
      "source": [
        "print(f\"Tensor Flow Version: {tf.__version__}\")\n",
        "print(f\"numpy Version: {np.version.version}\")"
      ],
      "execution_count": 3,
      "outputs": [
        {
          "output_type": "stream",
          "text": [
            "Tensor Flow Version: 2.2.0-rc4\n",
            "numpy Version: 1.18.4\n"
          ],
          "name": "stdout"
        }
      ]
    },
    {
      "cell_type": "code",
      "metadata": {
        "id": "nfdxNiKY2fL-",
        "colab_type": "code",
        "colab": {
          "base_uri": "https://localhost:8080/",
          "height": 34
        },
        "outputId": "876b869f-5653-446d-cd82-00cbd8f12fa3"
      },
      "source": [
        "# Raw Dataset Directory\n",
        "data_dir = pathlib.Path(\"/content/drive/My Drive/plant-pathology-2020-fgvc7/images\")\n",
        "image_count = len(list(data_dir.glob('*.jpg')))\n",
        "\n",
        "\n",
        "# print total no of images for all classes\n",
        "print(image_count)"
      ],
      "execution_count": 4,
      "outputs": [
        {
          "output_type": "stream",
          "text": [
            "3651\n"
          ],
          "name": "stdout"
        }
      ]
    },
    {
      "cell_type": "code",
      "metadata": {
        "id": "iKpcWd5M2fYb",
        "colab_type": "code",
        "colab": {}
      },
      "source": [
        "BATCH_SIZE = 64             # Can be of size 2^n, but not restricted to. for the better utilization of memory\n",
        "IMG_HEIGHT = 227            # input Shape required by the model\n",
        "IMG_WIDTH = 227             # input Shape required by the model\n",
        "\n",
        "\n",
        "\n",
        "# Image_Data_Path = \"D:/19_Projects/05_Pathology/plant-pathology-2020-fgvc7/images\"\n",
        "\n",
        "\n",
        "df=pd.read_csv('/content/drive/My Drive/plant-pathology-2020-fgvc7/train.csv') #training set list\n",
        "columns=[\"healthy\", \"multiple_diseases\", \"rust\", \"scab\"]\n",
        "df_test=pd.read_csv('/content/drive/My Drive/plant-pathology-2020-fgvc7/test.csv') #testing set list\n",
        "\n",
        "df['image_id'] = df['image_id'].astype(str)+\".jpg\"\n",
        "df_test['image_id'] = df_test['image_id'].astype(str)+\".jpg\""
      ],
      "execution_count": 0,
      "outputs": []
    },
    {
      "cell_type": "code",
      "metadata": {
        "id": "iyyImB2R2fg1",
        "colab_type": "code",
        "colab": {}
      },
      "source": [
        "image_generator = tf.keras.preprocessing.image.ImageDataGenerator(rescale=1./255)"
      ],
      "execution_count": 0,
      "outputs": []
    },
    {
      "cell_type": "code",
      "metadata": {
        "id": "t80Ogz082feX",
        "colab_type": "code",
        "colab": {
          "base_uri": "https://localhost:8080/",
          "height": 68
        },
        "outputId": "3251ac35-3ab0-44ea-c0ff-512a24e1f670"
      },
      "source": [
        "train_data_gen = image_generator.flow_from_dataframe(dataframe=df[:1460],\n",
        "                                                     directory=str(data_dir),\n",
        "                                                     x_col=\"image_id\",\n",
        "                                                     y_col=columns,\n",
        "                                                     seed=42,\n",
        "                                                     batch_size=BATCH_SIZE,\n",
        "                                                     shuffle=True,\n",
        "                                                     class_mode=\"raw\",\n",
        "                                                     target_size=(IMG_HEIGHT, IMG_WIDTH))#Resizing the raw dataset\n",
        "\n",
        "validation_data_gen = image_generator.flow_from_dataframe(dataframe=df[1460:],\n",
        "                                                     directory=str(data_dir),\n",
        "                                                     x_col=\"image_id\",\n",
        "                                                     y_col=columns,\n",
        "                                                     seed=42,\n",
        "                                                     batch_size=BATCH_SIZE,\n",
        "                                                     shuffle=True,\n",
        "                                                     class_mode=\"raw\",\n",
        "                                                     target_size=(IMG_HEIGHT, IMG_WIDTH))#Resizing the raw dataset\n",
        "\n",
        "#test data\n",
        "test_generator=image_generator.flow_from_dataframe(\n",
        "    dataframe=df_test[:],\n",
        "    directory=str(data_dir),\n",
        "    x_col=\"image_id\",\n",
        "    batch_size=1,\n",
        "    seed=42,\n",
        "    shuffle=False,\n",
        "    class_mode=None,\n",
        "    target_size=(227,227))"
      ],
      "execution_count": 7,
      "outputs": [
        {
          "output_type": "stream",
          "text": [
            "Found 1460 validated image filenames.\n",
            "Found 361 validated image filenames.\n",
            "Found 1821 validated image filenames.\n"
          ],
          "name": "stdout"
        }
      ]
    },
    {
      "cell_type": "code",
      "metadata": {
        "id": "zjy0BEOe2fby",
        "colab_type": "code",
        "colab": {
          "base_uri": "https://localhost:8080/",
          "height": 255
        },
        "outputId": "1ba57c1c-a9f2-4bed-f613-ad6cafeb90c0"
      },
      "source": [
        "\n",
        "STEP_SIZE_TRAIN=train_data_gen.n//train_data_gen.batch_size\n",
        "STEP_SIZE_VALID=validation_data_gen.n//validation_data_gen.batch_size\n",
        "STEP_SIZE_TEST=test_generator.n//test_generator.batch_size\n",
        "\n",
        "\n",
        "\n",
        "model = tf.keras.Sequential([\n",
        "    hub.KerasLayer(\"https://tfhub.dev/google/imagenet/resnet_v1_152/feature_vector/4\",\n",
        "                   trainable=False),  # Can be True, see below.\n",
        "    tf.keras.layers.BatchNormalization(),\n",
        "    tf.keras.layers.Dense(4, activation='softmax')\n",
        "])\n",
        "model.build([None, 227, 227, 3])  # Batch input shape.\n",
        "\n",
        "model.summary()"
      ],
      "execution_count": 8,
      "outputs": [
        {
          "output_type": "stream",
          "text": [
            "Model: \"sequential\"\n",
            "_________________________________________________________________\n",
            "Layer (type)                 Output Shape              Param #   \n",
            "=================================================================\n",
            "keras_layer (KerasLayer)     multiple                  58295232  \n",
            "_________________________________________________________________\n",
            "batch_normalization (BatchNo multiple                  8192      \n",
            "_________________________________________________________________\n",
            "dense (Dense)                multiple                  8196      \n",
            "=================================================================\n",
            "Total params: 58,311,620\n",
            "Trainable params: 12,292\n",
            "Non-trainable params: 58,299,328\n",
            "_________________________________________________________________\n"
          ],
          "name": "stdout"
        }
      ]
    },
    {
      "cell_type": "code",
      "metadata": {
        "id": "h6GJfJP12fJ0",
        "colab_type": "code",
        "colab": {}
      },
      "source": [
        "model.compile(optimizer='rmsprop', loss=\"categorical_crossentropy\", metrics=['accuracy'])\n",
        "\n",
        "class myCallback(tf.keras.callbacks.Callback):\n",
        "    def on_epoch_end(self,epoch,logs={}):\n",
        "        if (logs.get(\"accuracy\")==1.00 ):\n",
        "            print(\"\\nReached 100% accuracy so stopping training\")\n",
        "            self.model.stop_training =True\n",
        "callbacks = myCallback()\n",
        "\n",
        "# TensorBoard.dev Visuals\n",
        "log_dir=\"logs\\\\fit\\\\\" + datetime.datetime.now().strftime(\"%Y%m%d-%H%M%S\")\n",
        "tensorboard_callback = tf.keras.callbacks.TensorBoard(log_dir=log_dir, histogram_freq=1)"
      ],
      "execution_count": 0,
      "outputs": []
    },
    {
      "cell_type": "code",
      "metadata": {
        "id": "rOaDw_2Z2fDb",
        "colab_type": "code",
        "colab": {
          "base_uri": "https://localhost:8080/",
          "height": 496
        },
        "outputId": "02ecfc42-4ce8-4eba-d3c0-3d57f970d7e6"
      },
      "source": [
        "history = model.fit(\n",
        "      train_data_gen,\n",
        "      steps_per_epoch=STEP_SIZE_TRAIN,\n",
        "      validation_data=validation_data_gen,\n",
        "      validation_steps=STEP_SIZE_VALID,\n",
        "      epochs=1,\n",
        "      callbacks=[tensorboard_callback])\n",
        "\n",
        "model.save(\"/content/drive/My Drive/plant-pathology-2020-fgvc7/save4/\")\n",
        "\n",
        "SUB_PATH = \"/content/drive/My Drive/plant-pathology-2020-fgvc7/submission_sample/sample_submission.csv\"\n",
        "sub = pd.read_csv(SUB_PATH)\n",
        "\n",
        "test_generator.reset()\n",
        "pred=model.predict_generator(test_generator,steps=STEP_SIZE_TEST,verbose=1)\n",
        "\n",
        "sub.loc[:, 'healthy':] = pred\n",
        "sub.to_csv('submission.csv', index=False) #submit this file\n",
        "sub.head()"
      ],
      "execution_count": 10,
      "outputs": [
        {
          "output_type": "stream",
          "text": [
            "22/22 [==============================] - 1555s 71s/step - loss: 1.0579 - accuracy: 0.6009 - val_loss: 0.8846 - val_accuracy: 0.6531\n",
            "WARNING:tensorflow:From /usr/local/lib/python3.6/dist-packages/tensorflow/python/ops/resource_variable_ops.py:1817: calling BaseResourceVariable.__init__ (from tensorflow.python.ops.resource_variable_ops) with constraint is deprecated and will be removed in a future version.\n",
            "Instructions for updating:\n",
            "If using Keras pass *_constraint arguments to layers.\n"
          ],
          "name": "stdout"
        },
        {
          "output_type": "stream",
          "text": [
            "WARNING:tensorflow:From /usr/local/lib/python3.6/dist-packages/tensorflow/python/ops/resource_variable_ops.py:1817: calling BaseResourceVariable.__init__ (from tensorflow.python.ops.resource_variable_ops) with constraint is deprecated and will be removed in a future version.\n",
            "Instructions for updating:\n",
            "If using Keras pass *_constraint arguments to layers.\n"
          ],
          "name": "stderr"
        },
        {
          "output_type": "stream",
          "text": [
            "INFO:tensorflow:Assets written to: /content/drive/My Drive/plant-pathology-2020-fgvc7/save4/assets\n"
          ],
          "name": "stdout"
        },
        {
          "output_type": "stream",
          "text": [
            "INFO:tensorflow:Assets written to: /content/drive/My Drive/plant-pathology-2020-fgvc7/save4/assets\n"
          ],
          "name": "stderr"
        },
        {
          "output_type": "stream",
          "text": [
            "WARNING:tensorflow:From <ipython-input-10-5f20072da8fa>:15: Model.predict_generator (from tensorflow.python.keras.engine.training) is deprecated and will be removed in a future version.\n",
            "Instructions for updating:\n",
            "Please use Model.predict, which supports generators.\n"
          ],
          "name": "stdout"
        },
        {
          "output_type": "stream",
          "text": [
            "WARNING:tensorflow:From <ipython-input-10-5f20072da8fa>:15: Model.predict_generator (from tensorflow.python.keras.engine.training) is deprecated and will be removed in a future version.\n",
            "Instructions for updating:\n",
            "Please use Model.predict, which supports generators.\n"
          ],
          "name": "stderr"
        },
        {
          "output_type": "stream",
          "text": [
            "1821/1821 [==============================] - 1845s 1s/step\n"
          ],
          "name": "stdout"
        },
        {
          "output_type": "execute_result",
          "data": {
            "text/html": [
              "<div>\n",
              "<style scoped>\n",
              "    .dataframe tbody tr th:only-of-type {\n",
              "        vertical-align: middle;\n",
              "    }\n",
              "\n",
              "    .dataframe tbody tr th {\n",
              "        vertical-align: top;\n",
              "    }\n",
              "\n",
              "    .dataframe thead th {\n",
              "        text-align: right;\n",
              "    }\n",
              "</style>\n",
              "<table border=\"1\" class=\"dataframe\">\n",
              "  <thead>\n",
              "    <tr style=\"text-align: right;\">\n",
              "      <th></th>\n",
              "      <th>image_id</th>\n",
              "      <th>healthy</th>\n",
              "      <th>multiple_diseases</th>\n",
              "      <th>rust</th>\n",
              "      <th>scab</th>\n",
              "    </tr>\n",
              "  </thead>\n",
              "  <tbody>\n",
              "    <tr>\n",
              "      <th>0</th>\n",
              "      <td>Test_0</td>\n",
              "      <td>0.256134</td>\n",
              "      <td>0.224033</td>\n",
              "      <td>0.175010</td>\n",
              "      <td>0.344822</td>\n",
              "    </tr>\n",
              "    <tr>\n",
              "      <th>1</th>\n",
              "      <td>Test_1</td>\n",
              "      <td>0.202501</td>\n",
              "      <td>0.104363</td>\n",
              "      <td>0.615629</td>\n",
              "      <td>0.077508</td>\n",
              "    </tr>\n",
              "    <tr>\n",
              "      <th>2</th>\n",
              "      <td>Test_2</td>\n",
              "      <td>0.438471</td>\n",
              "      <td>0.120233</td>\n",
              "      <td>0.215713</td>\n",
              "      <td>0.225582</td>\n",
              "    </tr>\n",
              "    <tr>\n",
              "      <th>3</th>\n",
              "      <td>Test_3</td>\n",
              "      <td>0.769471</td>\n",
              "      <td>0.033152</td>\n",
              "      <td>0.104756</td>\n",
              "      <td>0.092620</td>\n",
              "    </tr>\n",
              "    <tr>\n",
              "      <th>4</th>\n",
              "      <td>Test_4</td>\n",
              "      <td>0.073574</td>\n",
              "      <td>0.007314</td>\n",
              "      <td>0.915724</td>\n",
              "      <td>0.003388</td>\n",
              "    </tr>\n",
              "  </tbody>\n",
              "</table>\n",
              "</div>"
            ],
            "text/plain": [
              "  image_id   healthy  multiple_diseases      rust      scab\n",
              "0   Test_0  0.256134           0.224033  0.175010  0.344822\n",
              "1   Test_1  0.202501           0.104363  0.615629  0.077508\n",
              "2   Test_2  0.438471           0.120233  0.215713  0.225582\n",
              "3   Test_3  0.769471           0.033152  0.104756  0.092620\n",
              "4   Test_4  0.073574           0.007314  0.915724  0.003388"
            ]
          },
          "metadata": {
            "tags": []
          },
          "execution_count": 10
        }
      ]
    }
  ]
}